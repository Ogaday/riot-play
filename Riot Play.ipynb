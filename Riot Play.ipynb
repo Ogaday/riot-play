{
 "cells": [
  {
   "cell_type": "code",
   "execution_count": 2,
   "metadata": {
    "collapsed": false
   },
   "outputs": [
    {
     "name": "stdout",
     "output_type": "stream",
     "text": [
      "Populating the interactive namespace from numpy and matplotlib\n"
     ]
    }
   ],
   "source": [
    "from cassiopeia import riotapi\n",
    "from api_key import key\n",
    "import numpy as np\n",
    "%pylab inline"
   ]
  },
  {
   "cell_type": "code",
   "execution_count": 3,
   "metadata": {
    "collapsed": true
   },
   "outputs": [],
   "source": [
    "riotapi.set_region(\"EUW\")\n",
    "riotapi.set_api_key(key)"
   ]
  },
  {
   "cell_type": "code",
   "execution_count": 4,
   "metadata": {
    "collapsed": true
   },
   "outputs": [],
   "source": [
    "summoner = riotapi.get_summoner_by_name(\"Blue Python\")"
   ]
  },
  {
   "cell_type": "code",
   "execution_count": 7,
   "metadata": {
    "collapsed": false
   },
   "outputs": [
    {
     "name": "stdout",
     "output_type": "stream",
     "text": [
      "{\n",
      "    \"id\": 36867106,\n",
      "    \"name\": \"Blue Python\",\n",
      "    \"profileIconId\": 544,\n",
      "    \"revisionDate\": 1440643798000,\n",
      "    \"summonerLevel\": 30\n",
      "}\n"
     ]
    }
   ],
   "source": [
    "print(summoner.to_json())"
   ]
  },
  {
   "cell_type": "code",
   "execution_count": 20,
   "metadata": {
    "collapsed": false
   },
   "outputs": [],
   "source": [
    "summoner??\n",
    "#[\"matches\"]"
   ]
  },
  {
   "cell_type": "code",
   "execution_count": 39,
   "metadata": {
    "collapsed": false
   },
   "outputs": [
    {
     "name": "stdout",
     "output_type": "stream",
     "text": [
      "Game #2268186713\n",
      "True\n",
      "2015-08-27 02:49:58.292000\n",
      "GameMode.classic\n",
      "2268186713\n",
      "Postano (Vladimir)\n",
      "Jaguaroar (Shen)\n",
      "Klauz13 (Tristana)\n",
      "xTheSplash (Syndra)\n",
      "AMpinto (Gnar)\n",
      "Doomzxzxzxzxzxzx (Yasuo)\n",
      "Fr3Runn3r (Kha'Zix)\n",
      "Stellions Gorgio (Sivir)\n",
      "DrKiWis (Evelynn)\n",
      "Blue Python (Leona)\n"
     ]
    }
   ],
   "source": [
    "games = summoner.recent_games()\n",
    "g = games[0]\n",
    "print(g)    #interesting magic, would normally return the object description\n",
    "print(g.summoner == summoner)    #return the id of the summoner through whom the game was queried\n",
    "print(g.creation)\n",
    "print(g.mode)\n",
    "print(g.id)\n",
    "#etc\n",
    "for i in range(10): print(g.participants[i])"
   ]
  },
  {
   "cell_type": "code",
   "execution_count": 34,
   "metadata": {
    "collapsed": true
   },
   "outputs": [],
   "source": [
    "g??"
   ]
  }
 ],
 "metadata": {
  "kernelspec": {
   "display_name": "Python 3",
   "language": "python",
   "name": "python3"
  },
  "language_info": {
   "codemirror_mode": {
    "name": "ipython",
    "version": 3
   },
   "file_extension": ".py",
   "mimetype": "text/x-python",
   "name": "python",
   "nbconvert_exporter": "python",
   "pygments_lexer": "ipython3",
   "version": "3.4.3"
  }
 },
 "nbformat": 4,
 "nbformat_minor": 0
}
